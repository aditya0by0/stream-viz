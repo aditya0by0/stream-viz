{
 "cells": [
  {
   "cell_type": "code",
   "execution_count": 2,
   "id": "2cc778b3-5db4-4850-8336-407468e1fb0e",
   "metadata": {},
   "outputs": [],
   "source": [
    "import pandas as pd\n",
    "import numpy as np\n",
    "import seaborn as sns\n",
    "import matplotlib.pyplot as plt\n",
    "from sklearn.preprocessing import OneHotEncoder\n",
    "from sklearn.metrics import accuracy_score\n",
    "from sklearn.model_selection import train_test_split\n",
    "from sklearn.model_selection import train_test_split\n",
    "from sklearn.linear_model import LogisticRegression\n",
    "from sklearn.metrics import accuracy_score, classification_report\n",
    "from scipy import stats"
   ]
  },
  {
   "cell_type": "code",
   "execution_count": 3,
   "id": "d715de21-82a1-4374-b823-79c552285d87",
   "metadata": {},
   "outputs": [
    {
     "data": {
      "text/html": [
       "<div>\n",
       "<style scoped>\n",
       "    .dataframe tbody tr th:only-of-type {\n",
       "        vertical-align: middle;\n",
       "    }\n",
       "\n",
       "    .dataframe tbody tr th {\n",
       "        vertical-align: top;\n",
       "    }\n",
       "\n",
       "    .dataframe thead th {\n",
       "        text-align: right;\n",
       "    }\n",
       "</style>\n",
       "<table border=\"1\" class=\"dataframe\">\n",
       "  <thead>\n",
       "    <tr style=\"text-align: right;\">\n",
       "      <th></th>\n",
       "      <th>c5</th>\n",
       "      <th>c6</th>\n",
       "      <th>c7</th>\n",
       "      <th>c8</th>\n",
       "      <th>c9</th>\n",
       "      <th>n0</th>\n",
       "      <th>n1</th>\n",
       "      <th>n2</th>\n",
       "      <th>n3</th>\n",
       "      <th>n4</th>\n",
       "      <th>class</th>\n",
       "    </tr>\n",
       "  </thead>\n",
       "  <tbody>\n",
       "    <tr>\n",
       "      <th>0</th>\n",
       "      <td>a</td>\n",
       "      <td>a</td>\n",
       "      <td>b</td>\n",
       "      <td>a</td>\n",
       "      <td>a</td>\n",
       "      <td>0.448573</td>\n",
       "      <td>1.212644</td>\n",
       "      <td>2.555515</td>\n",
       "      <td>0.242702</td>\n",
       "      <td>0.697604</td>\n",
       "      <td>A</td>\n",
       "    </tr>\n",
       "    <tr>\n",
       "      <th>1</th>\n",
       "      <td>a</td>\n",
       "      <td>a</td>\n",
       "      <td>a</td>\n",
       "      <td>b</td>\n",
       "      <td>b</td>\n",
       "      <td>1.902515</td>\n",
       "      <td>-0.467349</td>\n",
       "      <td>-0.744523</td>\n",
       "      <td>-0.017156</td>\n",
       "      <td>-0.380288</td>\n",
       "      <td>A</td>\n",
       "    </tr>\n",
       "    <tr>\n",
       "      <th>2</th>\n",
       "      <td>a</td>\n",
       "      <td>a</td>\n",
       "      <td>a</td>\n",
       "      <td>b</td>\n",
       "      <td>b</td>\n",
       "      <td>0.825045</td>\n",
       "      <td>1.002267</td>\n",
       "      <td>1.972207</td>\n",
       "      <td>-0.790095</td>\n",
       "      <td>0.233456</td>\n",
       "      <td>B</td>\n",
       "    </tr>\n",
       "    <tr>\n",
       "      <th>3</th>\n",
       "      <td>a</td>\n",
       "      <td>a</td>\n",
       "      <td>a</td>\n",
       "      <td>b</td>\n",
       "      <td>b</td>\n",
       "      <td>-0.124974</td>\n",
       "      <td>0.902601</td>\n",
       "      <td>1.696092</td>\n",
       "      <td>-0.320182</td>\n",
       "      <td>0.243261</td>\n",
       "      <td>A</td>\n",
       "    </tr>\n",
       "    <tr>\n",
       "      <th>4</th>\n",
       "      <td>b</td>\n",
       "      <td>a</td>\n",
       "      <td>a</td>\n",
       "      <td>b</td>\n",
       "      <td>a</td>\n",
       "      <td>-1.259765</td>\n",
       "      <td>0.793134</td>\n",
       "      <td>1.547527</td>\n",
       "      <td>-2.132172</td>\n",
       "      <td>-0.788367</td>\n",
       "      <td>B</td>\n",
       "    </tr>\n",
       "  </tbody>\n",
       "</table>\n",
       "</div>"
      ],
      "text/plain": [
       "  c5 c6 c7 c8 c9        n0        n1        n2        n3        n4 class\n",
       "0  a  a  b  a  a  0.448573  1.212644  2.555515  0.242702  0.697604     A\n",
       "1  a  a  a  b  b  1.902515 -0.467349 -0.744523 -0.017156 -0.380288     A\n",
       "2  a  a  a  b  b  0.825045  1.002267  1.972207 -0.790095  0.233456     B\n",
       "3  a  a  a  b  b -0.124974  0.902601  1.696092 -0.320182  0.243261     A\n",
       "4  b  a  a  b  a -1.259765  0.793134  1.547527 -2.132172 -0.788367     B"
      ]
     },
     "execution_count": 3,
     "metadata": {},
     "output_type": "execute_result"
    }
   ],
   "source": [
    "df_cfpdss = pd.read_csv(\"./cfpdss/cfpdss.csv\")\n",
    "df_cfpdss.head()"
   ]
  },
  {
   "cell_type": "code",
   "execution_count": 4,
   "id": "d9356780-b2e0-4437-9cde-2effb942e376",
   "metadata": {},
   "outputs": [
    {
     "name": "stderr",
     "output_type": "stream",
     "text": [
      "/opt/homebrew/lib/python3.11/site-packages/sklearn/preprocessing/_encoders.py:975: FutureWarning: `sparse` was renamed to `sparse_output` in version 1.2 and will be removed in 1.4. `sparse_output` is ignored unless you leave `sparse` to its default value.\n",
      "  warnings.warn(\n"
     ]
    },
    {
     "data": {
      "text/html": [
       "<div>\n",
       "<style scoped>\n",
       "    .dataframe tbody tr th:only-of-type {\n",
       "        vertical-align: middle;\n",
       "    }\n",
       "\n",
       "    .dataframe tbody tr th {\n",
       "        vertical-align: top;\n",
       "    }\n",
       "\n",
       "    .dataframe thead th {\n",
       "        text-align: right;\n",
       "    }\n",
       "</style>\n",
       "<table border=\"1\" class=\"dataframe\">\n",
       "  <thead>\n",
       "    <tr style=\"text-align: right;\">\n",
       "      <th></th>\n",
       "      <th>c5_b</th>\n",
       "      <th>c6_b</th>\n",
       "      <th>c7_b</th>\n",
       "      <th>c8_b</th>\n",
       "      <th>c9_b</th>\n",
       "      <th>n0</th>\n",
       "      <th>n1</th>\n",
       "      <th>n2</th>\n",
       "      <th>n3</th>\n",
       "      <th>n4</th>\n",
       "    </tr>\n",
       "  </thead>\n",
       "  <tbody>\n",
       "    <tr>\n",
       "      <th>0</th>\n",
       "      <td>0</td>\n",
       "      <td>0</td>\n",
       "      <td>1</td>\n",
       "      <td>0</td>\n",
       "      <td>0</td>\n",
       "      <td>0.448573</td>\n",
       "      <td>1.212644</td>\n",
       "      <td>2.555515</td>\n",
       "      <td>0.242702</td>\n",
       "      <td>0.697604</td>\n",
       "    </tr>\n",
       "    <tr>\n",
       "      <th>1</th>\n",
       "      <td>0</td>\n",
       "      <td>0</td>\n",
       "      <td>0</td>\n",
       "      <td>1</td>\n",
       "      <td>1</td>\n",
       "      <td>1.902515</td>\n",
       "      <td>-0.467349</td>\n",
       "      <td>-0.744523</td>\n",
       "      <td>-0.017156</td>\n",
       "      <td>-0.380288</td>\n",
       "    </tr>\n",
       "    <tr>\n",
       "      <th>2</th>\n",
       "      <td>0</td>\n",
       "      <td>0</td>\n",
       "      <td>0</td>\n",
       "      <td>1</td>\n",
       "      <td>1</td>\n",
       "      <td>0.825045</td>\n",
       "      <td>1.002267</td>\n",
       "      <td>1.972207</td>\n",
       "      <td>-0.790095</td>\n",
       "      <td>0.233456</td>\n",
       "    </tr>\n",
       "    <tr>\n",
       "      <th>3</th>\n",
       "      <td>0</td>\n",
       "      <td>0</td>\n",
       "      <td>0</td>\n",
       "      <td>1</td>\n",
       "      <td>1</td>\n",
       "      <td>-0.124974</td>\n",
       "      <td>0.902601</td>\n",
       "      <td>1.696092</td>\n",
       "      <td>-0.320182</td>\n",
       "      <td>0.243261</td>\n",
       "    </tr>\n",
       "    <tr>\n",
       "      <th>4</th>\n",
       "      <td>1</td>\n",
       "      <td>0</td>\n",
       "      <td>0</td>\n",
       "      <td>1</td>\n",
       "      <td>0</td>\n",
       "      <td>-1.259765</td>\n",
       "      <td>0.793134</td>\n",
       "      <td>1.547527</td>\n",
       "      <td>-2.132172</td>\n",
       "      <td>-0.788367</td>\n",
       "    </tr>\n",
       "    <tr>\n",
       "      <th>...</th>\n",
       "      <td>...</td>\n",
       "      <td>...</td>\n",
       "      <td>...</td>\n",
       "      <td>...</td>\n",
       "      <td>...</td>\n",
       "      <td>...</td>\n",
       "      <td>...</td>\n",
       "      <td>...</td>\n",
       "      <td>...</td>\n",
       "      <td>...</td>\n",
       "    </tr>\n",
       "    <tr>\n",
       "      <th>12995</th>\n",
       "      <td>0</td>\n",
       "      <td>1</td>\n",
       "      <td>1</td>\n",
       "      <td>1</td>\n",
       "      <td>0</td>\n",
       "      <td>-1.259309</td>\n",
       "      <td>-2.780877</td>\n",
       "      <td>-5.843740</td>\n",
       "      <td>-2.715839</td>\n",
       "      <td>-2.509596</td>\n",
       "    </tr>\n",
       "    <tr>\n",
       "      <th>12996</th>\n",
       "      <td>0</td>\n",
       "      <td>0</td>\n",
       "      <td>0</td>\n",
       "      <td>0</td>\n",
       "      <td>0</td>\n",
       "      <td>-0.129184</td>\n",
       "      <td>-0.629300</td>\n",
       "      <td>-1.315978</td>\n",
       "      <td>0.856377</td>\n",
       "      <td>0.113542</td>\n",
       "    </tr>\n",
       "    <tr>\n",
       "      <th>12997</th>\n",
       "      <td>1</td>\n",
       "      <td>1</td>\n",
       "      <td>1</td>\n",
       "      <td>0</td>\n",
       "      <td>1</td>\n",
       "      <td>-1.623399</td>\n",
       "      <td>-1.860928</td>\n",
       "      <td>-4.123079</td>\n",
       "      <td>0.073927</td>\n",
       "      <td>-1.146070</td>\n",
       "    </tr>\n",
       "    <tr>\n",
       "      <th>12998</th>\n",
       "      <td>0</td>\n",
       "      <td>0</td>\n",
       "      <td>0</td>\n",
       "      <td>1</td>\n",
       "      <td>1</td>\n",
       "      <td>0.229875</td>\n",
       "      <td>-0.095758</td>\n",
       "      <td>-0.150269</td>\n",
       "      <td>-0.905269</td>\n",
       "      <td>-0.391985</td>\n",
       "    </tr>\n",
       "    <tr>\n",
       "      <th>12999</th>\n",
       "      <td>0</td>\n",
       "      <td>0</td>\n",
       "      <td>0</td>\n",
       "      <td>1</td>\n",
       "      <td>0</td>\n",
       "      <td>0.066935</td>\n",
       "      <td>0.554386</td>\n",
       "      <td>1.175255</td>\n",
       "      <td>0.577778</td>\n",
       "      <td>0.511467</td>\n",
       "    </tr>\n",
       "  </tbody>\n",
       "</table>\n",
       "<p>13000 rows × 10 columns</p>\n",
       "</div>"
      ],
      "text/plain": [
       "       c5_b  c6_b  c7_b  c8_b  c9_b        n0        n1        n2        n3  \\\n",
       "0         0     0     1     0     0  0.448573  1.212644  2.555515  0.242702   \n",
       "1         0     0     0     1     1  1.902515 -0.467349 -0.744523 -0.017156   \n",
       "2         0     0     0     1     1  0.825045  1.002267  1.972207 -0.790095   \n",
       "3         0     0     0     1     1 -0.124974  0.902601  1.696092 -0.320182   \n",
       "4         1     0     0     1     0 -1.259765  0.793134  1.547527 -2.132172   \n",
       "...     ...   ...   ...   ...   ...       ...       ...       ...       ...   \n",
       "12995     0     1     1     1     0 -1.259309 -2.780877 -5.843740 -2.715839   \n",
       "12996     0     0     0     0     0 -0.129184 -0.629300 -1.315978  0.856377   \n",
       "12997     1     1     1     0     1 -1.623399 -1.860928 -4.123079  0.073927   \n",
       "12998     0     0     0     1     1  0.229875 -0.095758 -0.150269 -0.905269   \n",
       "12999     0     0     0     1     0  0.066935  0.554386  1.175255  0.577778   \n",
       "\n",
       "             n4  \n",
       "0      0.697604  \n",
       "1     -0.380288  \n",
       "2      0.233456  \n",
       "3      0.243261  \n",
       "4     -0.788367  \n",
       "...         ...  \n",
       "12995 -2.509596  \n",
       "12996  0.113542  \n",
       "12997 -1.146070  \n",
       "12998 -0.391985  \n",
       "12999  0.511467  \n",
       "\n",
       "[13000 rows x 10 columns]"
      ]
     },
     "execution_count": 4,
     "metadata": {},
     "output_type": "execute_result"
    }
   ],
   "source": [
    "cat_cols = [\"c5\", \"c6\", \"c7\", \"c8\", \"c9\"]\n",
    "encoder = OneHotEncoder(sparse=False, drop=\"if_binary\", dtype=np.int32)\n",
    "encoded_categorical = encoder.fit_transform(df_cfpdss[cat_cols])\n",
    "columns = encoder.get_feature_names_out()\n",
    "cat_cols_encoded = pd.DataFrame(encoded_categorical, columns=columns)\n",
    "num_cols = [\"n0\", \"n1\", \"n2\", \"n3\", \"n4\"]\n",
    "X = pd.concat([cat_cols_encoded, df_cfpdss[num_cols]], axis=1)\n",
    "X"
   ]
  },
  {
   "cell_type": "code",
   "execution_count": 5,
   "id": "1e53ad8f-8801-48fc-af1c-63569af679d3",
   "metadata": {},
   "outputs": [
    {
     "data": {
      "text/html": [
       "<div>\n",
       "<style scoped>\n",
       "    .dataframe tbody tr th:only-of-type {\n",
       "        vertical-align: middle;\n",
       "    }\n",
       "\n",
       "    .dataframe tbody tr th {\n",
       "        vertical-align: top;\n",
       "    }\n",
       "\n",
       "    .dataframe thead th {\n",
       "        text-align: right;\n",
       "    }\n",
       "</style>\n",
       "<table border=\"1\" class=\"dataframe\">\n",
       "  <thead>\n",
       "    <tr style=\"text-align: right;\">\n",
       "      <th></th>\n",
       "      <th>class</th>\n",
       "    </tr>\n",
       "  </thead>\n",
       "  <tbody>\n",
       "    <tr>\n",
       "      <th>0</th>\n",
       "      <td>0</td>\n",
       "    </tr>\n",
       "    <tr>\n",
       "      <th>1</th>\n",
       "      <td>0</td>\n",
       "    </tr>\n",
       "    <tr>\n",
       "      <th>2</th>\n",
       "      <td>1</td>\n",
       "    </tr>\n",
       "    <tr>\n",
       "      <th>3</th>\n",
       "      <td>0</td>\n",
       "    </tr>\n",
       "    <tr>\n",
       "      <th>4</th>\n",
       "      <td>1</td>\n",
       "    </tr>\n",
       "  </tbody>\n",
       "</table>\n",
       "</div>"
      ],
      "text/plain": [
       "   class\n",
       "0      0\n",
       "1      0\n",
       "2      1\n",
       "3      0\n",
       "4      1"
      ]
     },
     "execution_count": 5,
     "metadata": {},
     "output_type": "execute_result"
    }
   ],
   "source": [
    "y_df = df_cfpdss[\"class\"]\n",
    "y_encoder = OneHotEncoder(sparse_output=False, drop=\"if_binary\", dtype=np.int32)\n",
    "labels = y_df.values.reshape(-1, 1)\n",
    "y_encoded = y_encoder.fit_transform(labels)\n",
    "columns = [\"class\"]\n",
    "y = pd.DataFrame(y_encoded, columns=columns)\n",
    "y.head()"
   ]
  },
  {
   "cell_type": "code",
   "execution_count": 6,
   "id": "c615018c-4f64-4522-9b07-b876aa268bc2",
   "metadata": {},
   "outputs": [],
   "source": [
    "X_ref, X_test, y_ref, y_test = train_test_split(\n",
    "    X,\n",
    "    y,\n",
    "    train_size=0.1,\n",
    "    test_size=0.9,\n",
    "    shuffle=False,\n",
    "    random_state=0,\n",
    ")"
   ]
  },
  {
   "cell_type": "code",
   "execution_count": 7,
   "id": "1dae8cdc-a1c7-4bc0-acfe-f19ec6975f5b",
   "metadata": {},
   "outputs": [
    {
     "name": "stderr",
     "output_type": "stream",
     "text": [
      "/opt/homebrew/lib/python3.11/site-packages/sklearn/utils/validation.py:1183: DataConversionWarning: A column-vector y was passed when a 1d array was expected. Please change the shape of y to (n_samples, ), for example using ravel().\n",
      "  y = column_or_1d(y, warn=True)\n"
     ]
    },
    {
     "data": {
      "text/html": [
       "<style>#sk-container-id-1 {color: black;}#sk-container-id-1 pre{padding: 0;}#sk-container-id-1 div.sk-toggleable {background-color: white;}#sk-container-id-1 label.sk-toggleable__label {cursor: pointer;display: block;width: 100%;margin-bottom: 0;padding: 0.3em;box-sizing: border-box;text-align: center;}#sk-container-id-1 label.sk-toggleable__label-arrow:before {content: \"▸\";float: left;margin-right: 0.25em;color: #696969;}#sk-container-id-1 label.sk-toggleable__label-arrow:hover:before {color: black;}#sk-container-id-1 div.sk-estimator:hover label.sk-toggleable__label-arrow:before {color: black;}#sk-container-id-1 div.sk-toggleable__content {max-height: 0;max-width: 0;overflow: hidden;text-align: left;background-color: #f0f8ff;}#sk-container-id-1 div.sk-toggleable__content pre {margin: 0.2em;color: black;border-radius: 0.25em;background-color: #f0f8ff;}#sk-container-id-1 input.sk-toggleable__control:checked~div.sk-toggleable__content {max-height: 200px;max-width: 100%;overflow: auto;}#sk-container-id-1 input.sk-toggleable__control:checked~label.sk-toggleable__label-arrow:before {content: \"▾\";}#sk-container-id-1 div.sk-estimator input.sk-toggleable__control:checked~label.sk-toggleable__label {background-color: #d4ebff;}#sk-container-id-1 div.sk-label input.sk-toggleable__control:checked~label.sk-toggleable__label {background-color: #d4ebff;}#sk-container-id-1 input.sk-hidden--visually {border: 0;clip: rect(1px 1px 1px 1px);clip: rect(1px, 1px, 1px, 1px);height: 1px;margin: -1px;overflow: hidden;padding: 0;position: absolute;width: 1px;}#sk-container-id-1 div.sk-estimator {font-family: monospace;background-color: #f0f8ff;border: 1px dotted black;border-radius: 0.25em;box-sizing: border-box;margin-bottom: 0.5em;}#sk-container-id-1 div.sk-estimator:hover {background-color: #d4ebff;}#sk-container-id-1 div.sk-parallel-item::after {content: \"\";width: 100%;border-bottom: 1px solid gray;flex-grow: 1;}#sk-container-id-1 div.sk-label:hover label.sk-toggleable__label {background-color: #d4ebff;}#sk-container-id-1 div.sk-serial::before {content: \"\";position: absolute;border-left: 1px solid gray;box-sizing: border-box;top: 0;bottom: 0;left: 50%;z-index: 0;}#sk-container-id-1 div.sk-serial {display: flex;flex-direction: column;align-items: center;background-color: white;padding-right: 0.2em;padding-left: 0.2em;position: relative;}#sk-container-id-1 div.sk-item {position: relative;z-index: 1;}#sk-container-id-1 div.sk-parallel {display: flex;align-items: stretch;justify-content: center;background-color: white;position: relative;}#sk-container-id-1 div.sk-item::before, #sk-container-id-1 div.sk-parallel-item::before {content: \"\";position: absolute;border-left: 1px solid gray;box-sizing: border-box;top: 0;bottom: 0;left: 50%;z-index: -1;}#sk-container-id-1 div.sk-parallel-item {display: flex;flex-direction: column;z-index: 1;position: relative;background-color: white;}#sk-container-id-1 div.sk-parallel-item:first-child::after {align-self: flex-end;width: 50%;}#sk-container-id-1 div.sk-parallel-item:last-child::after {align-self: flex-start;width: 50%;}#sk-container-id-1 div.sk-parallel-item:only-child::after {width: 0;}#sk-container-id-1 div.sk-dashed-wrapped {border: 1px dashed gray;margin: 0 0.4em 0.5em 0.4em;box-sizing: border-box;padding-bottom: 0.4em;background-color: white;}#sk-container-id-1 div.sk-label label {font-family: monospace;font-weight: bold;display: inline-block;line-height: 1.2em;}#sk-container-id-1 div.sk-label-container {text-align: center;}#sk-container-id-1 div.sk-container {/* jupyter's `normalize.less` sets `[hidden] { display: none; }` but bootstrap.min.css set `[hidden] { display: none !important; }` so we also need the `!important` here to be able to override the default hidden behavior on the sphinx rendered scikit-learn.org. See: https://github.com/scikit-learn/scikit-learn/issues/21755 */display: inline-block !important;position: relative;}#sk-container-id-1 div.sk-text-repr-fallback {display: none;}</style><div id=\"sk-container-id-1\" class=\"sk-top-container\"><div class=\"sk-text-repr-fallback\"><pre>LogisticRegression()</pre><b>In a Jupyter environment, please rerun this cell to show the HTML representation or trust the notebook. <br />On GitHub, the HTML representation is unable to render, please try loading this page with nbviewer.org.</b></div><div class=\"sk-container\" hidden><div class=\"sk-item\"><div class=\"sk-estimator sk-toggleable\"><input class=\"sk-toggleable__control sk-hidden--visually\" id=\"sk-estimator-id-1\" type=\"checkbox\" checked><label for=\"sk-estimator-id-1\" class=\"sk-toggleable__label sk-toggleable__label-arrow\">LogisticRegression</label><div class=\"sk-toggleable__content\"><pre>LogisticRegression()</pre></div></div></div></div></div>"
      ],
      "text/plain": [
       "LogisticRegression()"
      ]
     },
     "execution_count": 7,
     "metadata": {},
     "output_type": "execute_result"
    }
   ],
   "source": [
    "model = LogisticRegression()\n",
    "model.fit(X_ref, y_ref)"
   ]
  },
  {
   "cell_type": "code",
   "execution_count": 8,
   "id": "f6076e4b-d820-4f32-a781-8330569da52a",
   "metadata": {},
   "outputs": [
    {
     "name": "stdout",
     "output_type": "stream",
     "text": [
      "Change detected at index 5119, input value: class    1\n",
      "Name: 5119, dtype: int32\n",
      "Change detected at index 6431, input value: class    0\n",
      "Name: 6431, dtype: int32\n",
      "Change detected at index 7231, input value: class    0\n",
      "Name: 7231, dtype: int32\n"
     ]
    },
    {
     "name": "stderr",
     "output_type": "stream",
     "text": [
      "/opt/homebrew/lib/python3.11/site-packages/river/drift/adwin.py:135: FutureWarning: Calling float on a single element Series is deprecated and will raise a TypeError in the future. Use float(ser.iloc[0]) instead\n",
      "  self._drift_detected = self._helper.update(x)\n"
     ]
    }
   ],
   "source": [
    "from river import drift\n",
    "\n",
    "adwin = drift.ADWIN()\n",
    "\n",
    "for index, row in y.iterrows():\n",
    "    adwin.update(row)\n",
    "    if adwin.drift_detected:\n",
    "        print(f\"Change detected at index {index}, input value: {row}\")"
   ]
  },
  {
   "cell_type": "code",
   "execution_count": 9,
   "id": "3e01996a-9d69-48eb-a163-d05c9092fcfd",
   "metadata": {},
   "outputs": [
    {
     "data": {
      "text/plain": [
       "(11700, 1)"
      ]
     },
     "execution_count": 9,
     "metadata": {},
     "output_type": "execute_result"
    }
   ],
   "source": [
    "y_test.shape"
   ]
  },
  {
   "cell_type": "code",
   "execution_count": 12,
   "id": "e550673a-730d-400c-a270-cf8bd76a3166",
   "metadata": {},
   "outputs": [
    {
     "name": "stderr",
     "output_type": "stream",
     "text": [
      "/opt/homebrew/lib/python3.11/site-packages/seaborn/_base.py:948: FutureWarning: When grouping with a length-1 list-like, you will need to pass a length-1 tuple to get_group in a future version of pandas. Pass `(name,)` instead of `name` to silence this warning.\n",
      "  data_subset = grouped_data.get_group(pd_key)\n",
      "/opt/homebrew/lib/python3.11/site-packages/seaborn/_base.py:948: FutureWarning: When grouping with a length-1 list-like, you will need to pass a length-1 tuple to get_group in a future version of pandas. Pass `(name,)` instead of `name` to silence this warning.\n",
      "  data_subset = grouped_data.get_group(pd_key)\n",
      "/opt/homebrew/lib/python3.11/site-packages/seaborn/_base.py:948: FutureWarning: When grouping with a length-1 list-like, you will need to pass a length-1 tuple to get_group in a future version of pandas. Pass `(name,)` instead of `name` to silence this warning.\n",
      "  data_subset = grouped_data.get_group(pd_key)\n",
      "/opt/homebrew/lib/python3.11/site-packages/seaborn/axisgrid.py:123: UserWarning: The figure layout has changed to tight\n",
      "  self._figure.tight_layout(*args, **kwargs)\n"
     ]
    },
    {
     "data": {
      "image/png": "[encoded data removed]",
      "text/plain": [
       "<Figure size 458.875x400 with 1 Axes>"
      ]
     },
     "metadata": {},
     "output_type": "display_data"
    }
   ],
   "source": [
    "sns.displot(\n",
    "    y_ref,\n",
    "    x=\"class\",\n",
    "    hue=\"class\",\n",
    "    kind=\"hist\",\n",
    "    discrete=True,\n",
    "    multiple=\"stack\",\n",
    "    height=4,\n",
    "    aspect=1,\n",
    "    palette=\"pastel\",\n",
    ")\n",
    "plt.title(\"Distribution Plot for Class Variable\")\n",
    "plt.xlabel(\"Class\")\n",
    "plt.ylabel(\"Count\")\n",
    "plt.xticks([0, 1])\n",
    "plt.show()"
   ]
  },
  {
   "cell_type": "code",
   "execution_count": 13,
   "id": "f18a5452-c94f-4d55-bf60-f00cd9d1bef6",
   "metadata": {},
   "outputs": [
    {
     "name": "stderr",
     "output_type": "stream",
     "text": [
      "/opt/homebrew/lib/python3.11/site-packages/seaborn/_base.py:948: FutureWarning: When grouping with a length-1 list-like, you will need to pass a length-1 tuple to get_group in a future version of pandas. Pass `(name,)` instead of `name` to silence this warning.\n",
      "  data_subset = grouped_data.get_group(pd_key)\n",
      "/opt/homebrew/lib/python3.11/site-packages/seaborn/_base.py:948: FutureWarning: When grouping with a length-1 list-like, you will need to pass a length-1 tuple to get_group in a future version of pandas. Pass `(name,)` instead of `name` to silence this warning.\n",
      "  data_subset = grouped_data.get_group(pd_key)\n",
      "/opt/homebrew/lib/python3.11/site-packages/seaborn/_base.py:948: FutureWarning: When grouping with a length-1 list-like, you will need to pass a length-1 tuple to get_group in a future version of pandas. Pass `(name,)` instead of `name` to silence this warning.\n",
      "  data_subset = grouped_data.get_group(pd_key)\n",
      "/opt/homebrew/lib/python3.11/site-packages/seaborn/axisgrid.py:123: UserWarning: The figure layout has changed to tight\n",
      "  self._figure.tight_layout(*args, **kwargs)\n"
     ]
    },
    {
     "data": {
      "image/png": "[encoded data removed]",
      "text/plain": [
       "<Figure size 458.875x400 with 1 Axes>"
      ]
     },
     "metadata": {},
     "output_type": "display_data"
    }
   ],
   "source": [
    "sns.displot(\n",
    "    y_test,\n",
    "    x=\"class\",\n",
    "    hue=\"class\",\n",
    "    kind=\"hist\",\n",
    "    discrete=True,\n",
    "    multiple=\"stack\",\n",
    "    height=4,\n",
    "    aspect=1,\n",
    "    palette=\"pastel\",\n",
    ")\n",
    "plt.title(\"Distribution Plot for Class Variable\")\n",
    "plt.xlabel(\"Class\")\n",
    "plt.ylabel(\"Count\")\n",
    "plt.xticks([0, 1])\n",
    "plt.show()"
   ]
  },
  {
   "cell_type": "code",
   "execution_count": 36,
   "id": "ca88ebd3-e267-41f2-8f23-c08628beabcc",
   "metadata": {},
   "outputs": [
    {
     "name": "stdout",
     "output_type": "stream",
     "text": [
      "KS Test between reference sample and sample 1: KstestResult(statistic=0.09307692307692307, pvalue=2.5390659159498898e-05, statistic_location=0, statistic_sign=1)\n"
     ]
    },
    {
     "name": "stderr",
     "output_type": "stream",
     "text": [
      "/opt/homebrew/lib/python3.11/site-packages/seaborn/_base.py:948: FutureWarning: When grouping with a length-1 list-like, you will need to pass a length-1 tuple to get_group in a future version of pandas. Pass `(name,)` instead of `name` to silence this warning.\n",
      "  data_subset = grouped_data.get_group(pd_key)\n",
      "/opt/homebrew/lib/python3.11/site-packages/seaborn/_base.py:948: FutureWarning: When grouping with a length-1 list-like, you will need to pass a length-1 tuple to get_group in a future version of pandas. Pass `(name,)` instead of `name` to silence this warning.\n",
      "  data_subset = grouped_data.get_group(pd_key)\n",
      "/opt/homebrew/lib/python3.11/site-packages/seaborn/_base.py:948: FutureWarning: When grouping with a length-1 list-like, you will need to pass a length-1 tuple to get_group in a future version of pandas. Pass `(name,)` instead of `name` to silence this warning.\n",
      "  data_subset = grouped_data.get_group(pd_key)\n",
      "/opt/homebrew/lib/python3.11/site-packages/seaborn/axisgrid.py:123: UserWarning: The figure layout has changed to tight\n",
      "  self._figure.tight_layout(*args, **kwargs)\n"
     ]
    },
    {
     "data": {
      "image/png": "[encoded data removed]",
      "text/plain": [
       "<Figure size 458.875x400 with 1 Axes>"
      ]
     },
     "metadata": {},
     "output_type": "display_data"
    },
    {
     "name": "stdout",
     "output_type": "stream",
     "text": [
      "KS Test between reference sample and sample 2: KstestResult(statistic=0.010425771303369457, pvalue=0.9999992318298707, statistic_location=0, statistic_sign=-1)\n",
      "KS Test between reference sample and sample 3: KstestResult(statistic=0.008819802214721383, pvalue=0.9999999981825192, statistic_location=0, statistic_sign=1)\n",
      "KS Test between reference sample and sample 4: KstestResult(statistic=0.055009178658139396, pvalue=0.03721188897963236, statistic_location=0, statistic_sign=1)\n"
     ]
    },
    {
     "name": "stderr",
     "output_type": "stream",
     "text": [
      "/opt/homebrew/lib/python3.11/site-packages/seaborn/_base.py:948: FutureWarning: When grouping with a length-1 list-like, you will need to pass a length-1 tuple to get_group in a future version of pandas. Pass `(name,)` instead of `name` to silence this warning.\n",
      "  data_subset = grouped_data.get_group(pd_key)\n",
      "/opt/homebrew/lib/python3.11/site-packages/seaborn/_base.py:948: FutureWarning: When grouping with a length-1 list-like, you will need to pass a length-1 tuple to get_group in a future version of pandas. Pass `(name,)` instead of `name` to silence this warning.\n",
      "  data_subset = grouped_data.get_group(pd_key)\n",
      "/opt/homebrew/lib/python3.11/site-packages/seaborn/_base.py:948: FutureWarning: When grouping with a length-1 list-like, you will need to pass a length-1 tuple to get_group in a future version of pandas. Pass `(name,)` instead of `name` to silence this warning.\n",
      "  data_subset = grouped_data.get_group(pd_key)\n",
      "/opt/homebrew/lib/python3.11/site-packages/seaborn/axisgrid.py:123: UserWarning: The figure layout has changed to tight\n",
      "  self._figure.tight_layout(*args, **kwargs)\n"
     ]
    },
    {
     "data": {
      "image/png": "[encoded data removed]",
      "text/plain": [
       "<Figure size 458.875x400 with 1 Axes>"
      ]
     },
     "metadata": {},
     "output_type": "display_data"
    },
    {
     "name": "stderr",
     "output_type": "stream",
     "text": [
      "/opt/homebrew/lib/python3.11/site-packages/seaborn/_base.py:948: FutureWarning: When grouping with a length-1 list-like, you will need to pass a length-1 tuple to get_group in a future version of pandas. Pass `(name,)` instead of `name` to silence this warning.\n",
      "  data_subset = grouped_data.get_group(pd_key)\n",
      "/opt/homebrew/lib/python3.11/site-packages/seaborn/_base.py:948: FutureWarning: When grouping with a length-1 list-like, you will need to pass a length-1 tuple to get_group in a future version of pandas. Pass `(name,)` instead of `name` to silence this warning.\n",
      "  data_subset = grouped_data.get_group(pd_key)\n",
      "/opt/homebrew/lib/python3.11/site-packages/seaborn/_base.py:948: FutureWarning: When grouping with a length-1 list-like, you will need to pass a length-1 tuple to get_group in a future version of pandas. Pass `(name,)` instead of `name` to silence this warning.\n",
      "  data_subset = grouped_data.get_group(pd_key)\n"
     ]
    },
    {
     "name": "stdout",
     "output_type": "stream",
     "text": [
      "KS Test between reference sample and sample 5: KstestResult(statistic=0.10973293065671819, pvalue=2.63966179217302e-07, statistic_location=0, statistic_sign=-1)\n"
     ]
    },
    {
     "name": "stderr",
     "output_type": "stream",
     "text": [
      "/opt/homebrew/lib/python3.11/site-packages/seaborn/axisgrid.py:123: UserWarning: The figure layout has changed to tight\n",
      "  self._figure.tight_layout(*args, **kwargs)\n"
     ]
    },
    {
     "data": {
      "image/png": "[encoded data removed]",
      "text/plain": [
       "<Figure size 458.875x400 with 1 Axes>"
      ]
     },
     "metadata": {},
     "output_type": "display_data"
    },
    {
     "name": "stdout",
     "output_type": "stream",
     "text": [
      "KS Test between reference sample and sample 6: KstestResult(statistic=0.028835198673535855, pvalue=0.6366085461734913, statistic_location=0, statistic_sign=1)\n",
      "KS Test between reference sample and sample 7: KstestResult(statistic=0.01266891691833955, pvalue=0.9998934579504203, statistic_location=0, statistic_sign=1)\n",
      "KS Test between reference sample and sample 8: KstestResult(statistic=0.02890152188073666, pvalue=0.6329351085071512, statistic_location=0, statistic_sign=-1)\n",
      "KS Test between reference sample and sample 9: KstestResult(statistic=0.006510333392550483, pvalue=0.9999999999999958, statistic_location=0, statistic_sign=1)\n"
     ]
    }
   ],
   "source": [
    "sample_ref = y_ref[\"class\"].values\n",
    "j = 0\n",
    "for i in range(1, 10):\n",
    "    s_i = y_test[j : 1300 * i]\n",
    "    j = (i * 1300) + 1\n",
    "    sample_i = s_i[\"class\"].values\n",
    "    res = stats.ks_2samp(sample_ref, sample_i)\n",
    "    print(\"KS Test between reference sample and sample {}: {}\".format(i, res))\n",
    "    if res.pvalue < 0.05:\n",
    "        sns.displot(\n",
    "            s_i,\n",
    "            x=\"class\",\n",
    "            hue=\"class\",\n",
    "            kind=\"hist\",\n",
    "            discrete=True,\n",
    "            multiple=\"stack\",\n",
    "            height=4,\n",
    "            aspect=1,\n",
    "            palette=\"pastel\",\n",
    "        )\n",
    "        plt.title(\"Distribution Plot of Class Variable for Sample {}\".format(i))\n",
    "        plt.xlabel(\"Class\")\n",
    "        plt.ylabel(\"Count\")\n",
    "        plt.xticks([0, 1])\n",
    "        plt.show()"
   ]
  },
  {
   "cell_type": "code",
   "execution_count": null,
   "id": "b6cc5554-54a6-410e-bc1e-8ffba509e1e8",
   "metadata": {},
   "outputs": [],
   "source": []
  }
 ],
 "metadata": {
  "kernelspec": {
   "display_name": "Python 3 (ipykernel)",
   "language": "python",
   "name": "python3"
  },
  "language_info": {
   "codemirror_mode": {
    "name": "ipython",
    "version": 3
   },
   "file_extension": ".py",
   "mimetype": "text/x-python",
   "name": "python",
   "nbconvert_exporter": "python",
   "pygments_lexer": "ipython3",
   "version": "3.12.3"
  }
 },
 "nbformat": 4,
 "nbformat_minor": 5
}
