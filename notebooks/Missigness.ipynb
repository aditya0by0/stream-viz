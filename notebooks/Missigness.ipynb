{
 "cells": [
  {
   "cell_type": "code",
   "execution_count": 3,
   "id": "40720958-04c6-4ff4-906c-d2ffa55bcc13",
   "metadata": {
    "ExecuteTime": {
     "end_time": "2024-06-21T16:26:55.054695Z",
     "start_time": "2024-06-21T16:26:50.806366Z"
    },
    "jupyter": {
     "source_hidden": true
    }
   },
   "outputs": [],
   "source": [
    "# ------ River imports ---------\n",
    "\n",
    "from river import stream\n",
    "\n",
    "# Metrics\n",
    "from river.metrics import Accuracy, Precision, Recall, F1, CohenKappa, BalancedAccuracy\n",
    "\n",
    "# Drift Detectors\n",
    "from river.drift import ADWIN, KSWIN, PageHinkley, DriftRetrainingClassifier\n",
    "from river.drift.binary import *\n",
    "\n",
    "# Classifiers\n",
    "from river.linear_model import LogisticRegression\n",
    "from river.forest import ARFClassifier\n",
    "from river.tree import HoeffdingTreeClassifier, ExtremelyFastDecisionTreeClassifier"
   ]
  },
  {
   "cell_type": "code",
   "execution_count": 4,
   "id": "98db01d6-f3e0-4d75-8ede-a075ea574fd7",
   "metadata": {
    "ExecuteTime": {
     "end_time": "2024-06-21T16:27:02.721923Z",
     "start_time": "2024-06-21T16:27:00.791866Z"
    },
    "jupyter": {
     "source_hidden": true
    }
   },
   "outputs": [],
   "source": [
    "# ------ Sk-learn imports -------------\n",
    "\n",
    "# sklearn classifiers\n",
    "from sklearn.neighbors import KNeighborsClassifier\n",
    "from sklearn.naive_bayes import GaussianNB\n",
    "\n",
    "# Sklearn Metric\n",
    "from sklearn.metrics import cohen_kappa_score, accuracy_score, f1_score\n",
    "\n",
    "# Others\n",
    "from sklearn.preprocessing import OneHotEncoder, MinMaxScaler\n",
    "from sklearn.model_selection import train_test_split"
   ]
  },
  {
   "cell_type": "code",
   "execution_count": 5,
   "id": "5646d274-cbc5-499b-81fd-09575c614330",
   "metadata": {
    "ExecuteTime": {
     "end_time": "2024-06-21T16:27:09.199290Z",
     "start_time": "2024-06-21T16:27:08.194664Z"
    },
    "jupyter": {
     "source_hidden": true
    }
   },
   "outputs": [],
   "source": [
    "# ------ Basic python lib imports ----------------\n",
    "import numpy as np\n",
    "import pandas as pd\n",
    "import matplotlib.pyplot as plt\n",
    "import seaborn as sns\n",
    "import mpld3\n",
    "import mplcursors\n",
    "from collections import deque\n",
    "import warnings\n",
    "from scipy.stats import ks_2samp\n",
    "\n",
    "warnings.filterwarnings(\"ignore\")\n",
    "\n",
    "# %matplotlib inline\n",
    "# mpld3.enable_notebook()"
   ]
  },
  {
   "cell_type": "code",
   "execution_count": 6,
   "id": "eaa34933-a985-49ed-b265-fc0c13390ebe",
   "metadata": {
    "collapsed": true,
    "jupyter": {
     "outputs_hidden": true,
     "source_hidden": true
    }
   },
   "outputs": [
    {
     "data": {
      "text/html": [
       "<div>\n",
       "<style scoped>\n",
       "    .dataframe tbody tr th:only-of-type {\n",
       "        vertical-align: middle;\n",
       "    }\n",
       "\n",
       "    .dataframe tbody tr th {\n",
       "        vertical-align: top;\n",
       "    }\n",
       "\n",
       "    .dataframe thead th {\n",
       "        text-align: right;\n",
       "    }\n",
       "</style>\n",
       "<table border=\"1\" class=\"dataframe\">\n",
       "  <thead>\n",
       "    <tr style=\"text-align: right;\">\n",
       "      <th></th>\n",
       "      <th>c5</th>\n",
       "      <th>c6</th>\n",
       "      <th>c7</th>\n",
       "      <th>c8</th>\n",
       "      <th>c9</th>\n",
       "      <th>n0</th>\n",
       "      <th>n1</th>\n",
       "      <th>n2</th>\n",
       "      <th>n3</th>\n",
       "      <th>n4</th>\n",
       "      <th>class</th>\n",
       "    </tr>\n",
       "  </thead>\n",
       "  <tbody>\n",
       "    <tr>\n",
       "      <th>0</th>\n",
       "      <td>a</td>\n",
       "      <td>a</td>\n",
       "      <td>b</td>\n",
       "      <td>a</td>\n",
       "      <td>a</td>\n",
       "      <td>0.448573</td>\n",
       "      <td>1.212644</td>\n",
       "      <td>2.555515</td>\n",
       "      <td>0.242702</td>\n",
       "      <td>0.697604</td>\n",
       "      <td>A</td>\n",
       "    </tr>\n",
       "    <tr>\n",
       "      <th>1</th>\n",
       "      <td>a</td>\n",
       "      <td>a</td>\n",
       "      <td>a</td>\n",
       "      <td>b</td>\n",
       "      <td>b</td>\n",
       "      <td>1.902515</td>\n",
       "      <td>-0.467349</td>\n",
       "      <td>-0.744523</td>\n",
       "      <td>-0.017156</td>\n",
       "      <td>-0.380288</td>\n",
       "      <td>A</td>\n",
       "    </tr>\n",
       "    <tr>\n",
       "      <th>2</th>\n",
       "      <td>a</td>\n",
       "      <td>a</td>\n",
       "      <td>a</td>\n",
       "      <td>b</td>\n",
       "      <td>b</td>\n",
       "      <td>0.825045</td>\n",
       "      <td>1.002267</td>\n",
       "      <td>1.972207</td>\n",
       "      <td>-0.790095</td>\n",
       "      <td>0.233456</td>\n",
       "      <td>B</td>\n",
       "    </tr>\n",
       "    <tr>\n",
       "      <th>3</th>\n",
       "      <td>a</td>\n",
       "      <td>a</td>\n",
       "      <td>a</td>\n",
       "      <td>b</td>\n",
       "      <td>b</td>\n",
       "      <td>-0.124974</td>\n",
       "      <td>0.902601</td>\n",
       "      <td>1.696092</td>\n",
       "      <td>-0.320182</td>\n",
       "      <td>0.243261</td>\n",
       "      <td>A</td>\n",
       "    </tr>\n",
       "    <tr>\n",
       "      <th>4</th>\n",
       "      <td>b</td>\n",
       "      <td>a</td>\n",
       "      <td>a</td>\n",
       "      <td>b</td>\n",
       "      <td>a</td>\n",
       "      <td>-1.259765</td>\n",
       "      <td>0.793134</td>\n",
       "      <td>1.547527</td>\n",
       "      <td>-2.132172</td>\n",
       "      <td>-0.788367</td>\n",
       "      <td>B</td>\n",
       "    </tr>\n",
       "  </tbody>\n",
       "</table>\n",
       "</div>"
      ],
      "text/plain": [
       "  c5 c6 c7 c8 c9        n0        n1        n2        n3        n4 class\n",
       "0  a  a  b  a  a  0.448573  1.212644  2.555515  0.242702  0.697604     A\n",
       "1  a  a  a  b  b  1.902515 -0.467349 -0.744523 -0.017156 -0.380288     A\n",
       "2  a  a  a  b  b  0.825045  1.002267  1.972207 -0.790095  0.233456     B\n",
       "3  a  a  a  b  b -0.124974  0.902601  1.696092 -0.320182  0.243261     A\n",
       "4  b  a  a  b  a -1.259765  0.793134  1.547527 -2.132172 -0.788367     B"
      ]
     },
     "execution_count": 6,
     "metadata": {},
     "output_type": "execute_result"
    }
   ],
   "source": [
    "# ------ Get \"cfpdss\" data --------------------------\n",
    "df_cfpdss = pd.read_csv(\n",
    "    \"C:/Users/HP/Desktop/github-aditya0by0/stream-viz/data/cfpdss.csv\"\n",
    ")\n",
    "df_cfpdss.head()"
   ]
  },
  {
   "cell_type": "code",
   "execution_count": 7,
   "id": "1bfcbf2e-4de7-4fdc-b34e-d1aa9657dbf0",
   "metadata": {
    "ExecuteTime": {
     "end_time": "2024-06-21T16:27:18.303787Z",
     "start_time": "2024-06-21T16:27:18.158272Z"
    },
    "collapsed": true,
    "jupyter": {
     "outputs_hidden": true,
     "source_hidden": true
    }
   },
   "outputs": [
    {
     "data": {
      "text/html": [
       "<div>\n",
       "<style scoped>\n",
       "    .dataframe tbody tr th:only-of-type {\n",
       "        vertical-align: middle;\n",
       "    }\n",
       "\n",
       "    .dataframe tbody tr th {\n",
       "        vertical-align: top;\n",
       "    }\n",
       "\n",
       "    .dataframe thead th {\n",
       "        text-align: right;\n",
       "    }\n",
       "</style>\n",
       "<table border=\"1\" class=\"dataframe\">\n",
       "  <thead>\n",
       "    <tr style=\"text-align: right;\">\n",
       "      <th></th>\n",
       "      <th>c5</th>\n",
       "      <th>c6</th>\n",
       "      <th>c7</th>\n",
       "      <th>c8</th>\n",
       "      <th>c9</th>\n",
       "      <th>n0</th>\n",
       "      <th>n1</th>\n",
       "      <th>n2</th>\n",
       "      <th>n3</th>\n",
       "      <th>n4</th>\n",
       "      <th>class</th>\n",
       "    </tr>\n",
       "  </thead>\n",
       "  <tbody>\n",
       "    <tr>\n",
       "      <th>49</th>\n",
       "      <td>a</td>\n",
       "      <td>a</td>\n",
       "      <td>a</td>\n",
       "      <td>a</td>\n",
       "      <td>a</td>\n",
       "      <td>-0.192318</td>\n",
       "      <td>0.714631</td>\n",
       "      <td>1.188953</td>\n",
       "      <td>2.146077</td>\n",
       "      <td>1.393357</td>\n",
       "      <td>0</td>\n",
       "    </tr>\n",
       "    <tr>\n",
       "      <th>50</th>\n",
       "      <td>NaN</td>\n",
       "      <td>a</td>\n",
       "      <td>a</td>\n",
       "      <td>NaN</td>\n",
       "      <td>NaN</td>\n",
       "      <td>0.178767</td>\n",
       "      <td>NaN</td>\n",
       "      <td>NaN</td>\n",
       "      <td>NaN</td>\n",
       "      <td>0.269626</td>\n",
       "      <td>0</td>\n",
       "    </tr>\n",
       "    <tr>\n",
       "      <th>51</th>\n",
       "      <td>NaN</td>\n",
       "      <td>a</td>\n",
       "      <td>a</td>\n",
       "      <td>a</td>\n",
       "      <td>NaN</td>\n",
       "      <td>1.364684</td>\n",
       "      <td>-0.428681</td>\n",
       "      <td>NaN</td>\n",
       "      <td>1.122679</td>\n",
       "      <td>NaN</td>\n",
       "      <td>0</td>\n",
       "    </tr>\n",
       "    <tr>\n",
       "      <th>52</th>\n",
       "      <td>NaN</td>\n",
       "      <td>b</td>\n",
       "      <td>b</td>\n",
       "      <td>NaN</td>\n",
       "      <td>NaN</td>\n",
       "      <td>-0.878532</td>\n",
       "      <td>2.046157</td>\n",
       "      <td>4.402366</td>\n",
       "      <td>-0.633157</td>\n",
       "      <td>0.579233</td>\n",
       "      <td>0</td>\n",
       "    </tr>\n",
       "    <tr>\n",
       "      <th>53</th>\n",
       "      <td>NaN</td>\n",
       "      <td>NaN</td>\n",
       "      <td>NaN</td>\n",
       "      <td>a</td>\n",
       "      <td>a</td>\n",
       "      <td>0.794489</td>\n",
       "      <td>-1.089565</td>\n",
       "      <td>NaN</td>\n",
       "      <td>0.096427</td>\n",
       "      <td>NaN</td>\n",
       "      <td>1</td>\n",
       "    </tr>\n",
       "    <tr>\n",
       "      <th>54</th>\n",
       "      <td>NaN</td>\n",
       "      <td>NaN</td>\n",
       "      <td>a</td>\n",
       "      <td>a</td>\n",
       "      <td>NaN</td>\n",
       "      <td>NaN</td>\n",
       "      <td>NaN</td>\n",
       "      <td>NaN</td>\n",
       "      <td>0.282534</td>\n",
       "      <td>NaN</td>\n",
       "      <td>0</td>\n",
       "    </tr>\n",
       "  </tbody>\n",
       "</table>\n",
       "</div>"
      ],
      "text/plain": [
       "     c5   c6   c7   c8   c9        n0        n1        n2        n3        n4  \\\n",
       "49    a    a    a    a    a -0.192318  0.714631  1.188953  2.146077  1.393357   \n",
       "50  NaN    a    a  NaN  NaN  0.178767       NaN       NaN       NaN  0.269626   \n",
       "51  NaN    a    a    a  NaN  1.364684 -0.428681       NaN  1.122679       NaN   \n",
       "52  NaN    b    b  NaN  NaN -0.878532  2.046157  4.402366 -0.633157  0.579233   \n",
       "53  NaN  NaN  NaN    a    a  0.794489 -1.089565       NaN  0.096427       NaN   \n",
       "54  NaN  NaN    a    a  NaN       NaN       NaN       NaN  0.282534       NaN   \n",
       "\n",
       "    class  \n",
       "49      0  \n",
       "50      0  \n",
       "51      0  \n",
       "52      0  \n",
       "53      1  \n",
       "54      0  "
      ]
     },
     "execution_count": 7,
     "metadata": {},
     "output_type": "execute_result"
    }
   ],
   "source": [
    "# ------ Get cfpdss data with missing values\n",
    "df_cfpdss_missing = pd.read_csv(\n",
    "    \"C:/Users/HP/Desktop/github-aditya0by0/stream-viz/data/cfpdss_m0.5.csv\"\n",
    ")\n",
    "df_cfpdss_missing = df_cfpdss_missing.iloc[:, 1:]\n",
    "df_cfpdss_missing.iloc[49:55]"
   ]
  },
  {
   "cell_type": "code",
   "execution_count": 8,
   "id": "67fcb66f-3f6e-4f13-82e6-04f4245751f1",
   "metadata": {
    "ExecuteTime": {
     "end_time": "2024-06-21T16:27:25.818032Z",
     "start_time": "2024-06-21T16:27:25.799215Z"
    },
    "jupyter": {
     "source_hidden": true
    }
   },
   "outputs": [],
   "source": [
    "def data_encoding(data, feature_scaling=True):\n",
    "    X_df = data.drop(columns=\"class\")\n",
    "\n",
    "    # Separating categorical and non-categorical columns\n",
    "    categorical_columns = X_df.select_dtypes(include=[\"object\"]).columns.tolist()\n",
    "    X_df_categorical = X_df[categorical_columns]\n",
    "    non_cat_columns = [col for col in X_df.columns if col not in categorical_columns]\n",
    "    X_df_non_categorical = X_df[non_cat_columns]\n",
    "\n",
    "    # Record the indices of missing values for each categorical feature\n",
    "    missing_indices = {\n",
    "        col: X_df_categorical[col].index[X_df_categorical[col].isna()].tolist()\n",
    "        for col in categorical_columns\n",
    "    }\n",
    "\n",
    "    # Impute NaN values in categorical features with the most frequent value from the same column\n",
    "    X_df_categorical = X_df_categorical.apply(\n",
    "        lambda col: col.fillna(\n",
    "            col.mode()[0] if not col.mode().empty else col.value_counts().index[0]\n",
    "        )\n",
    "    )\n",
    "\n",
    "    # One hot encoding - Categorical data\n",
    "    encoder = OneHotEncoder(sparse_output=False, drop=\"if_binary\", dtype=np.int32)\n",
    "    one_hot_encoded = encoder.fit_transform(X_df_categorical)\n",
    "    columns = encoder.get_feature_names_out(categorical_columns)\n",
    "    X_df_cat_one_hot = pd.DataFrame(\n",
    "        one_hot_encoded, columns=columns, index=X_df_categorical.index\n",
    "    )\n",
    "\n",
    "    # Replace the imputed values back with NaNs in the encoded DataFrame\n",
    "    for col, indices in missing_indices.items():\n",
    "        for index in indices:\n",
    "            cols_to_check = [c for c in X_df_cat_one_hot.columns if c.startswith(col)]\n",
    "            for c in cols_to_check:\n",
    "                X_df_cat_one_hot.at[index, c] = np.nan\n",
    "\n",
    "    # Feature scaling numerical data/non-categorical data\n",
    "    if feature_scaling:\n",
    "        scaler = MinMaxScaler()\n",
    "        X_df_non_categorical = pd.DataFrame(\n",
    "            scaler.fit_transform(X_df_non_categorical),\n",
    "            columns=X_df_non_categorical.columns,\n",
    "            index=X_df_non_categorical.index,\n",
    "        )\n",
    "\n",
    "    # Concatenate categorical and non-categorical data\n",
    "    X_df_encoded = pd.concat(\n",
    "        [\n",
    "            X_df_cat_one_hot,\n",
    "            X_df_non_categorical,\n",
    "            # X_df_categorical  # Re-add the original categorical columns with NaNs\n",
    "        ],\n",
    "        axis=1,\n",
    "    )\n",
    "\n",
    "    # Encoding the target variable\n",
    "    y_df = data[[\"class\"]]\n",
    "    y_encoder = OneHotEncoder(sparse_output=False, drop=\"if_binary\", dtype=np.int32)\n",
    "    y_one_hot = y_encoder.fit_transform(y_df)\n",
    "    y_encoded = pd.Series(y_one_hot.ravel())\n",
    "\n",
    "    return X_df_encoded, y_encoded"
   ]
  },
  {
   "cell_type": "code",
   "execution_count": 9,
   "id": "37b5d44c-c281-4f91-b0d6-cbece37c5dc7",
   "metadata": {
    "ExecuteTime": {
     "end_time": "2024-06-21T16:27:33.856752Z",
     "start_time": "2024-06-21T16:27:32.473799Z"
    }
   },
   "outputs": [],
   "source": [
    "# ------ Encode missing and non-missing ddata\n",
    "# X_df_encoded, y_encoded =  data_encoding(df_cfpdss)\n",
    "X_df_encoded_m, y_encoded_m = data_encoding(df_cfpdss_missing)"
   ]
  },
  {
   "cell_type": "code",
   "execution_count": 10,
   "id": "6f39be1b-7b34-4861-8090-861d92eb2724",
   "metadata": {
    "ExecuteTime": {
     "end_time": "2024-06-21T18:43:44.305429Z",
     "start_time": "2024-06-21T18:43:44.283738Z"
    }
   },
   "outputs": [
    {
     "data": {
      "text/plain": [
       "<module 'DataMissingness' from 'C:\\\\Users\\\\HP\\\\Desktop\\\\github-aditya0by0\\\\stream-viz\\\\notebooks\\\\DataMissingness.py'>"
      ]
     },
     "execution_count": 10,
     "metadata": {},
     "output_type": "execute_result"
    }
   ],
   "source": [
    "import importlib\n",
    "import DataMissingness\n",
    "\n",
    "importlib.reload(DataMissingness)"
   ]
  },
  {
   "cell_type": "code",
   "execution_count": 11,
   "id": "3b400921-81ca-4aa6-9027-2cc78f7ed650",
   "metadata": {
    "ExecuteTime": {
     "end_time": "2024-06-21T19:20:00.346466Z",
     "start_time": "2024-06-21T18:43:46.324552Z"
    }
   },
   "outputs": [],
   "source": [
    "def calculate_missigness_score(X_df_m, window_size=100):\n",
    "    missigness_detector = DataMissingness.MissingnessDetector(window_size=100)\n",
    "    for idx, xi in X_df_m.iterrows():\n",
    "        missigness_detector.update(xi.to_dict(), idx=idx)\n",
    "\n",
    "    return missigness_detector.get_results()\n",
    "\n",
    "\n",
    "result = calculate_missigness_score(X_df_encoded_m.iloc[:1000])"
   ]
  },
  {
   "cell_type": "code",
   "execution_count": 17,
   "id": "3b8653a9d5a275ce",
   "metadata": {
    "ExecuteTime": {
     "end_time": "2024-06-21T19:21:07.022947Z",
     "start_time": "2024-06-21T19:21:03.738131Z"
    }
   },
   "outputs": [
    {
     "data": {
      "text/plain": [
       "0.25248217532242956"
      ]
     },
     "execution_count": 17,
     "metadata": {},
     "output_type": "execute_result"
    }
   ],
   "source": [
    "from pyampute.exploration.mcar_statistical_tests import MCARTest\n",
    "\n",
    "mcar_little_test_cls = MCARTest(method=\"little\")\n",
    "mcar_little_test_cls.little_mcar_test(X_df_encoded_m)"
   ]
  },
  {
   "cell_type": "code",
   "execution_count": 18,
   "id": "b0244898-864c-4595-a447-5541eebb80ac",
   "metadata": {
    "collapsed": true,
    "jupyter": {
     "outputs_hidden": true
    }
   },
   "outputs": [
    {
     "data": {
      "text/plain": [
       "c5_b    109\n",
       "c6_b     92\n",
       "c7_b    100\n",
       "c8_b    102\n",
       "c9_b    104\n",
       "n0      101\n",
       "n1       95\n",
       "n2      106\n",
       "n3       97\n",
       "n4       91\n",
       "dtype: int64"
      ]
     },
     "execution_count": 18,
     "metadata": {},
     "output_type": "execute_result"
    }
   ],
   "source": [
    "X_df_encoded_m.iloc[99:300].isnull().sum()"
   ]
  },
  {
   "cell_type": "code",
   "execution_count": 19,
   "id": "cf83e9e572befb1b",
   "metadata": {
    "ExecuteTime": {
     "end_time": "2024-06-21T19:20:03.414998Z",
     "start_time": "2024-06-21T19:20:03.395347Z"
    },
    "collapsed": true,
    "jupyter": {
     "outputs_hidden": true
    }
   },
   "outputs": [
    {
     "ename": "NameError",
     "evalue": "name 'result' is not defined",
     "output_type": "error",
     "traceback": [
      "\u001b[1;31m----------------------------------------------------------------------\u001b[0m",
      "\u001b[1;31mNameError\u001b[0m                            Traceback (most recent call last)",
      "Cell \u001b[1;32mIn[19], line 1\u001b[0m\n\u001b[1;32m----> 1\u001b[0m \u001b[43mresult\u001b[49m[\u001b[38;5;124m\"\u001b[39m\u001b[38;5;124mMCAR (Chi2 Test)\u001b[39m\u001b[38;5;124m\"\u001b[39m]\u001b[38;5;241m.\u001b[39mhead()\n",
      "\u001b[1;31mNameError\u001b[0m: name 'result' is not defined"
     ]
    }
   ],
   "source": [
    "result[\"MCAR (Chi2 Test)\"].head()"
   ]
  },
  {
   "cell_type": "code",
   "execution_count": null,
   "id": "a818b2f6-8627-47db-a3f4-9eeb83985950",
   "metadata": {},
   "outputs": [],
   "source": [
    "mcar_little_test_cls.little_mcar_test(X_df_encoded_m.iloc[99:199])"
   ]
  },
  {
   "cell_type": "code",
   "execution_count": null,
   "id": "308b8b8a-eb87-44bc-abb4-6a4d9eb06e6f",
   "metadata": {},
   "outputs": [],
   "source": [
    "p_values[p_values[\"p_value\"] <= 0.05]"
   ]
  },
  {
   "cell_type": "code",
   "execution_count": 20,
   "id": "bb08eb84-31bb-4f70-838e-5fef528c7410",
   "metadata": {},
   "outputs": [
    {
     "data": {
      "image/png": "[encoded data removed]",
      "text/plain": [
       "<Figure size 1200x600 with 1 Axes>"
      ]
     },
     "metadata": {},
     "output_type": "display_data"
    }
   ],
   "source": [
    "import matplotlib.pyplot as plt\n",
    "\n",
    "# Assuming `p_values` is a DataFrame and the p-values are in a column named 'p_value'\n",
    "p_values_column = (\n",
    "    p_values[\"p_value\"] if \"p_value\" in p_values.columns else p_values.iloc[:, 0]\n",
    ")\n",
    "\n",
    "# Define colors based on the p-value threshold\n",
    "colors = [\"red\" if p <= 0.05 else \"green\" for p in p_values_column]\n",
    "\n",
    "# Create the scatter plot\n",
    "plt.figure(figsize=(12, 6))\n",
    "plt.hlines(\n",
    "    0.05,\n",
    "    xmin=p_values_column.index[0],\n",
    "    xmax=p_values_column.index[-1],\n",
    "    colors=\"orange\",\n",
    "    label=\"Significance Level\",\n",
    ")\n",
    "plt.scatter(p_values.index, p_values_column, c=colors, alpha=0.7)\n",
    "\n",
    "# Create custom legend handles\n",
    "red_patch = plt.Line2D(\n",
    "    [0],\n",
    "    [0],\n",
    "    marker=\"o\",\n",
    "    color=\"w\",\n",
    "    markerfacecolor=\"red\",\n",
    "    markersize=10,\n",
    "    label=\"p <= 0.05\",\n",
    ")\n",
    "green_patch = plt.Line2D(\n",
    "    [0],\n",
    "    [0],\n",
    "    marker=\"o\",\n",
    "    color=\"w\",\n",
    "    markerfacecolor=\"green\",\n",
    "    markersize=10,\n",
    "    label=\"p > 0.05\",\n",
    ")\n",
    "\n",
    "# Add legend\n",
    "plt.legend(\n",
    "    handles=[\n",
    "        red_patch,\n",
    "        green_patch,\n",
    "        plt.Line2D([0], [0], color=\"orange\", lw=2, label=\"Significance Level\"),\n",
    "    ]\n",
    ")\n",
    "\n",
    "# Add labels and title\n",
    "plt.ylabel(\"p value for MCAR test\")\n",
    "plt.xlabel(\"Timepoints\")\n",
    "plt.title(\"MCAR test for data within Time window\")\n",
    "plt.grid(True)\n",
    "\n",
    "# Show the plot\n",
    "plt.show()"
   ]
  },
  {
   "cell_type": "code",
   "execution_count": null,
   "id": "28e825ee-b178-4533-8616-61637568ca3b",
   "metadata": {},
   "outputs": [],
   "source": [
    "# len(result['MAR'])\n",
    "result[\"MNAR\"].head()"
   ]
  },
  {
   "cell_type": "code",
   "execution_count": null,
   "id": "1bd88cc3-be2f-4d8e-ba07-3aa44dd183fa",
   "metadata": {},
   "outputs": [],
   "source": [
    "len(result[\"MCAR (Random Test)\"])"
   ]
  },
  {
   "cell_type": "code",
   "execution_count": null,
   "id": "b96e369a-5454-4d85-93c8-feade0edd75e",
   "metadata": {},
   "outputs": [],
   "source": [
    "len(result[\"MNAR\"])"
   ]
  },
  {
   "cell_type": "code",
   "execution_count": null,
   "id": "5d1e0353-49f4-4b1e-bfaf-861d1279f1f3",
   "metadata": {
    "jupyter": {
     "source_hidden": true
    }
   },
   "outputs": [],
   "source": [
    "# Assuming result is your dictionary containing MAR, MCAR (Random Test), and MNAR scores\n",
    "def plot_missigness(result, start_tp=0, end_tp=1000):\n",
    "    # Plot MAR mean score\n",
    "    MAR_df = result[\"MAR\"].iloc[start_tp:end_tp]\n",
    "    MCAR_df = result[\"MCAR (Random Test)\"].iloc[start_tp:end_tp]\n",
    "    MNAR_df = result[\"MNAR\"].iloc[start_tp:end_tp]\n",
    "\n",
    "    plt.figure(figsize=(10, 6))\n",
    "    plt.plot(MAR_df.index, MAR_df[\"mean\"], color=\"blue\", label=\"MAR mean score\")\n",
    "\n",
    "    # Plot MCAR (Random Test) mean score\n",
    "    plt.plot(\n",
    "        MCAR_df.index,\n",
    "        MCAR_df[\"mean\"],\n",
    "        color=\"green\",\n",
    "        label=\"MCAR (Random Test) mean score\",\n",
    "    )\n",
    "\n",
    "    # Plot MNAR score\n",
    "    plt.plot(MNAR_df.index, MNAR_df[\"mean\"], color=\"yellow\", label=\"MNAR score\")\n",
    "\n",
    "    plt.title(\"Missing Data Type Score vs. Time\")\n",
    "    plt.xlabel(\"Time\")\n",
    "    plt.ylabel(\"Score\")\n",
    "    plt.grid(True)\n",
    "    plt.xticks(\n",
    "        np.arange(start_tp, end_tp, (end_tp - start_tp) // 10)\n",
    "    )  # Assuming 'MAR' is used as the index for x-axis ticks\n",
    "    plt.legend()\n",
    "    plt.show()\n",
    "\n",
    "\n",
    "plot_missigness(result, start_tp=1000, end_tp=2000)"
   ]
  },
  {
   "cell_type": "code",
   "execution_count": 23,
   "id": "61f3e3be-b997-4c8d-ac4c-b4f9b9379431",
   "metadata": {
    "collapsed": true,
    "jupyter": {
     "outputs_hidden": true
    }
   },
   "outputs": [
    {
     "data": {
      "image/png": "[encoded data removed]",
      "text/plain": [
       "<Figure size 1000x800 with 2 Axes>"
      ]
     },
     "metadata": {},
     "output_type": "display_data"
    }
   ],
   "source": [
    "\"Source : - https://stackoverflow.com/questions/76739357/how-to-test-missing-at-random-mar-in-r\"\n",
    "X_df_encoded_m_ind = X_df_encoded_m.copy(deep=True)\n",
    "for col in X_df_encoded_m.columns:\n",
    "    X_df_encoded_m_ind[col + \"_is_na\"] = X_df_encoded_m_ind[col].isna().astype(int)\n",
    "\n",
    "# Generate plot of pairwise correlations\n",
    "correlation_matrix = X_df_encoded_m_ind.corr(method=\"pearson\")\n",
    "plt.figure(figsize=(10, 8))\n",
    "sns.heatmap(correlation_matrix, annot=True, fmt=\".2f\", cmap=\"coolwarm\", vmin=-1, vmax=1)\n",
    "plt.title(\"Pairwise Correlation Matrix\")\n",
    "plt.show()\n",
    "# pearson works only for cont. data\n",
    "# binning and purity - cat\n",
    "# DTs"
   ]
  },
  {
   "cell_type": "code",
   "execution_count": 26,
   "id": "bc909de2-5784-4694-b6c1-7348e95b7714",
   "metadata": {},
   "outputs": [
    {
     "data": {
      "text/plain": [
       "array([0.42203587, 0.43919723, 0.55094236])"
      ]
     },
     "execution_count": 26,
     "metadata": {},
     "output_type": "execute_result"
    }
   ],
   "source": [
    "import pandas as pd\n",
    "from sklearn.tree import DecisionTreeClassifier\n",
    "\n",
    "# Assuming X_df_encoded_m and y_encoded_m are your data\n",
    "# and they are properly encoded and prepared.\n",
    "\n",
    "# Train the decision tree\n",
    "clf_dt = DecisionTreeClassifier(criterion=\"entropy\", max_depth=2)\n",
    "clf_dt.fit(X_df_encoded_m.filter(regex=\"^n\")[:1000], y_encoded_m[:1000])\n",
    "\n",
    "# Extract the decision thresholds from the tree\n",
    "thresholds = clf_dt.tree_.threshold[clf_dt.tree_.threshold > -2]\n",
    "thresholds = np.sort(thresholds)\n",
    "thresholds"
   ]
  },
  {
   "cell_type": "code",
   "execution_count": 27,
   "id": "8a380998-2c3f-47a0-afdd-962db4fd4e99",
   "metadata": {},
   "outputs": [
    {
     "data": {
      "text/plain": [
       "[Text(0.5, 0.8333333333333334, 'x[4] <= 0.551\\nentropy = 0.993\\nsamples = 1000\\nvalue = [548, 452]'),\n",
       " Text(0.25, 0.5, 'x[4] <= 0.439\\nentropy = 0.988\\nsamples = 774\\nvalue = [338.0, 436.0]'),\n",
       " Text(0.125, 0.16666666666666666, 'entropy = 0.285\\nsamples = 121\\nvalue = [6, 115]'),\n",
       " Text(0.375, 0.16666666666666666, 'entropy = 1.0\\nsamples = 653\\nvalue = [332, 321]'),\n",
       " Text(0.75, 0.5, 'x[2] <= 0.422\\nentropy = 0.369\\nsamples = 226\\nvalue = [210, 16]'),\n",
       " Text(0.625, 0.16666666666666666, 'entropy = 0.0\\nsamples = 3\\nvalue = [0, 3]'),\n",
       " Text(0.875, 0.16666666666666666, 'entropy = 0.321\\nsamples = 223\\nvalue = [210, 13]')]"
      ]
     },
     "execution_count": 27,
     "metadata": {},
     "output_type": "execute_result"
    },
    {
     "data": {
      "image/png": "[encoded data removed]",
      "text/plain": [
       "<Figure size 640x480 with 1 Axes>"
      ]
     },
     "metadata": {},
     "output_type": "display_data"
    }
   ],
   "source": [
    "from sklearn import tree\n",
    "\n",
    "tree.plot_tree(clf_dt)"
   ]
  },
  {
   "cell_type": "code",
   "execution_count": 28,
   "id": "9afd1b4d-d9a0-4e84-927c-9c2aaa480b4e",
   "metadata": {},
   "outputs": [
    {
     "data": {
      "text/html": [
       "<div>\n",
       "<style scoped>\n",
       "    .dataframe tbody tr th:only-of-type {\n",
       "        vertical-align: middle;\n",
       "    }\n",
       "\n",
       "    .dataframe tbody tr th {\n",
       "        vertical-align: top;\n",
       "    }\n",
       "\n",
       "    .dataframe thead th {\n",
       "        text-align: right;\n",
       "    }\n",
       "</style>\n",
       "<table border=\"1\" class=\"dataframe\">\n",
       "  <thead>\n",
       "    <tr style=\"text-align: right;\">\n",
       "      <th></th>\n",
       "      <th>n0</th>\n",
       "      <th>n1</th>\n",
       "      <th>n2</th>\n",
       "      <th>n3</th>\n",
       "      <th>n4</th>\n",
       "    </tr>\n",
       "  </thead>\n",
       "  <tbody>\n",
       "    <tr>\n",
       "      <th>0</th>\n",
       "      <td>2</td>\n",
       "      <td>3</td>\n",
       "      <td>2</td>\n",
       "      <td>2</td>\n",
       "      <td>3</td>\n",
       "    </tr>\n",
       "    <tr>\n",
       "      <th>1</th>\n",
       "      <td>3</td>\n",
       "      <td>1</td>\n",
       "      <td>2</td>\n",
       "      <td>2</td>\n",
       "      <td>2</td>\n",
       "    </tr>\n",
       "    <tr>\n",
       "      <th>2</th>\n",
       "      <td>3</td>\n",
       "      <td>3</td>\n",
       "      <td>2</td>\n",
       "      <td>0</td>\n",
       "      <td>2</td>\n",
       "    </tr>\n",
       "    <tr>\n",
       "      <th>3</th>\n",
       "      <td>2</td>\n",
       "      <td>3</td>\n",
       "      <td>2</td>\n",
       "      <td>0</td>\n",
       "      <td>3</td>\n",
       "    </tr>\n",
       "    <tr>\n",
       "      <th>4</th>\n",
       "      <td>0</td>\n",
       "      <td>3</td>\n",
       "      <td>2</td>\n",
       "      <td>0</td>\n",
       "      <td>0</td>\n",
       "    </tr>\n",
       "  </tbody>\n",
       "</table>\n",
       "</div>"
      ],
      "text/plain": [
       "   n0  n1  n2  n3  n4\n",
       "0   2   3   2   2   3\n",
       "1   3   1   2   2   2\n",
       "2   3   3   2   0   2\n",
       "3   2   3   2   0   3\n",
       "4   0   3   2   0   0"
      ]
     },
     "execution_count": 28,
     "metadata": {},
     "output_type": "execute_result"
    }
   ],
   "source": [
    "# Define a function to apply binning based on thresholds\n",
    "def apply_binning(value, thresholds):\n",
    "    # Filter out invalid thresholds\n",
    "    for i, thresh in enumerate(thresholds):\n",
    "        if value <= thresh:\n",
    "            return i\n",
    "    return len(thresholds)  # If value exceeds the last threshold\n",
    "\n",
    "\n",
    "# Apply the binning to the entire dataset (or a subset of your choosing)\n",
    "binned_data = X_df_encoded_m.filter(regex=\"^n\").applymap(\n",
    "    lambda x: apply_binning(x, thresholds)\n",
    ")\n",
    "\n",
    "# Example to view the binned data\n",
    "binned_data.head()"
   ]
  },
  {
   "cell_type": "code",
   "execution_count": null,
   "id": "ac79b77d-ee91-4edc-aa13-e9cd18539644",
   "metadata": {},
   "outputs": [],
   "source": [
    "binned_data.hist()"
   ]
  },
  {
   "cell_type": "code",
   "execution_count": 20,
   "id": "6b8fa88c-ddc0-4c80-85ec-38eed11fc5a9",
   "metadata": {},
   "outputs": [
    {
     "name": "stdout",
     "output_type": "stream",
     "text": [
      "Chi-Square statistic: 8.0\n",
      "Chi-Square p-value: 0.23810330555354436\n"
     ]
    }
   ],
   "source": [
    "import pandas as pd\n",
    "from scipy import stats\n",
    "\n",
    "# Example data\n",
    "data = {\n",
    "    \"Category\": [\"A\", \"A\", \"B\", \"B\", \"C\", \"C\", \"C\", \"C\"],\n",
    "    \"Numerical\": [23, 45, 12, 36, 72, 58, 91, 62],\n",
    "}\n",
    "\n",
    "df = pd.DataFrame(data)\n",
    "\n",
    "# Bin the numerical data\n",
    "df[\"Numerical_binned\"] = pd.qcut(df[\"Numerical\"], q=4)\n",
    "\n",
    "# Create a contingency table\n",
    "contingency_table = pd.crosstab(df[\"Category\"], df[\"Numerical_binned\"])\n",
    "\n",
    "# Perform Chi-Square test\n",
    "chi2_stat, p_val, dof, ex = stats.chi2_contingency(contingency_table)\n",
    "\n",
    "print(\"Chi-Square statistic:\", chi2_stat)\n",
    "print(\"Chi-Square p-value:\", p_val)"
   ]
  },
  {
   "cell_type": "code",
   "execution_count": 30,
   "id": "59afd877-0576-4691-b464-6c61c530f6c9",
   "metadata": {},
   "outputs": [
    {
     "data": {
      "text/plain": [
       "Index(['n0', 'n1', 'n2', 'n3', 'n4'], dtype='object')"
      ]
     },
     "execution_count": 30,
     "metadata": {},
     "output_type": "execute_result"
    }
   ],
   "source": [
    "# categorical vs is_null_categorical (categorical) = chi2\n",
    "# numerical vs is_null_numerical (categorical) =\n",
    "# categorical vs\n",
    "\n",
    "# cat , num, is_cat_null, is_num_null\n",
    "\n",
    "# cat vs is_cat_null - chi2\n",
    "# cat vs is_num_null - chi2\n",
    "# binned_num vs is_cat_null - binning + chi2\n",
    "# binned_num vs is_num_null - binning + chi2\n",
    "X_df_encoded_m.filter(regex=\"^n\").columns"
   ]
  },
  {
   "cell_type": "code",
   "execution_count": 52,
   "id": "bd4cfac0-a2e3-4103-84aa-e8d4d966e28d",
   "metadata": {},
   "outputs": [
    {
     "data": {
      "text/plain": [
       "c5_b    6545\n",
       "c6_b    6418\n",
       "c7_b    6433\n",
       "c8_b    6485\n",
       "c9_b    6632\n",
       "n0      6514\n",
       "n1      6495\n",
       "n2      6474\n",
       "n3      6488\n",
       "n4      6541\n",
       "dtype: int64"
      ]
     },
     "execution_count": 52,
     "metadata": {},
     "output_type": "execute_result"
    }
   ],
   "source": [
    "X_df_encoded_m.isna().sum()"
   ]
  },
  {
   "cell_type": "code",
   "execution_count": 53,
   "id": "9b71e8ea-35ba-4ff4-a59b-6c6021fa412f",
   "metadata": {},
   "outputs": [
    {
     "data": {
      "text/html": [
       "<div>\n",
       "<style scoped>\n",
       "    .dataframe tbody tr th:only-of-type {\n",
       "        vertical-align: middle;\n",
       "    }\n",
       "\n",
       "    .dataframe tbody tr th {\n",
       "        vertical-align: top;\n",
       "    }\n",
       "\n",
       "    .dataframe thead th {\n",
       "        text-align: right;\n",
       "    }\n",
       "</style>\n",
       "<table border=\"1\" class=\"dataframe\">\n",
       "  <thead>\n",
       "    <tr style=\"text-align: right;\">\n",
       "      <th></th>\n",
       "      <th>c5_b</th>\n",
       "      <th>c6_b</th>\n",
       "      <th>c7_b</th>\n",
       "      <th>c8_b</th>\n",
       "      <th>c9_b</th>\n",
       "      <th>n0</th>\n",
       "      <th>n1</th>\n",
       "      <th>n2</th>\n",
       "      <th>n3</th>\n",
       "      <th>n4</th>\n",
       "      <th>...</th>\n",
       "      <th>is_na_n0</th>\n",
       "      <th>is_na_n1</th>\n",
       "      <th>is_na_n2</th>\n",
       "      <th>is_na_n3</th>\n",
       "      <th>is_na_n4</th>\n",
       "      <th>bin_idx_n0</th>\n",
       "      <th>bin_idx_n1</th>\n",
       "      <th>bin_idx_n2</th>\n",
       "      <th>bin_idx_n3</th>\n",
       "      <th>bin_idx_n4</th>\n",
       "    </tr>\n",
       "  </thead>\n",
       "  <tbody>\n",
       "    <tr>\n",
       "      <th>0</th>\n",
       "      <td>0.0</td>\n",
       "      <td>0.0</td>\n",
       "      <td>1.0</td>\n",
       "      <td>0.0</td>\n",
       "      <td>0.0</td>\n",
       "      <td>0.530356</td>\n",
       "      <td>0.598345</td>\n",
       "      <td>0.519161</td>\n",
       "      <td>0.478557</td>\n",
       "      <td>0.620371</td>\n",
       "      <td>...</td>\n",
       "      <td>0</td>\n",
       "      <td>0</td>\n",
       "      <td>0</td>\n",
       "      <td>0</td>\n",
       "      <td>0</td>\n",
       "      <td>2</td>\n",
       "      <td>3</td>\n",
       "      <td>2</td>\n",
       "      <td>2</td>\n",
       "      <td>3</td>\n",
       "    </tr>\n",
       "    <tr>\n",
       "      <th>1</th>\n",
       "      <td>0.0</td>\n",
       "      <td>0.0</td>\n",
       "      <td>0.0</td>\n",
       "      <td>1.0</td>\n",
       "      <td>1.0</td>\n",
       "      <td>0.672618</td>\n",
       "      <td>0.423329</td>\n",
       "      <td>0.442055</td>\n",
       "      <td>0.449888</td>\n",
       "      <td>0.458838</td>\n",
       "      <td>...</td>\n",
       "      <td>0</td>\n",
       "      <td>0</td>\n",
       "      <td>0</td>\n",
       "      <td>0</td>\n",
       "      <td>0</td>\n",
       "      <td>3</td>\n",
       "      <td>1</td>\n",
       "      <td>2</td>\n",
       "      <td>2</td>\n",
       "      <td>2</td>\n",
       "    </tr>\n",
       "    <tr>\n",
       "      <th>2</th>\n",
       "      <td>0.0</td>\n",
       "      <td>0.0</td>\n",
       "      <td>0.0</td>\n",
       "      <td>1.0</td>\n",
       "      <td>1.0</td>\n",
       "      <td>0.567192</td>\n",
       "      <td>0.576429</td>\n",
       "      <td>0.505532</td>\n",
       "      <td>0.364614</td>\n",
       "      <td>0.550814</td>\n",
       "      <td>...</td>\n",
       "      <td>0</td>\n",
       "      <td>0</td>\n",
       "      <td>0</td>\n",
       "      <td>0</td>\n",
       "      <td>0</td>\n",
       "      <td>3</td>\n",
       "      <td>3</td>\n",
       "      <td>2</td>\n",
       "      <td>0</td>\n",
       "      <td>2</td>\n",
       "    </tr>\n",
       "    <tr>\n",
       "      <th>3</th>\n",
       "      <td>0.0</td>\n",
       "      <td>0.0</td>\n",
       "      <td>0.0</td>\n",
       "      <td>1.0</td>\n",
       "      <td>1.0</td>\n",
       "      <td>0.474236</td>\n",
       "      <td>0.566046</td>\n",
       "      <td>0.499081</td>\n",
       "      <td>0.416457</td>\n",
       "      <td>0.552283</td>\n",
       "      <td>...</td>\n",
       "      <td>0</td>\n",
       "      <td>0</td>\n",
       "      <td>0</td>\n",
       "      <td>0</td>\n",
       "      <td>0</td>\n",
       "      <td>2</td>\n",
       "      <td>3</td>\n",
       "      <td>2</td>\n",
       "      <td>0</td>\n",
       "      <td>3</td>\n",
       "    </tr>\n",
       "    <tr>\n",
       "      <th>4</th>\n",
       "      <td>1.0</td>\n",
       "      <td>0.0</td>\n",
       "      <td>0.0</td>\n",
       "      <td>1.0</td>\n",
       "      <td>0.0</td>\n",
       "      <td>0.363202</td>\n",
       "      <td>0.554642</td>\n",
       "      <td>0.495610</td>\n",
       "      <td>0.216550</td>\n",
       "      <td>0.397683</td>\n",
       "      <td>...</td>\n",
       "      <td>0</td>\n",
       "      <td>0</td>\n",
       "      <td>0</td>\n",
       "      <td>0</td>\n",
       "      <td>0</td>\n",
       "      <td>0</td>\n",
       "      <td>3</td>\n",
       "      <td>2</td>\n",
       "      <td>0</td>\n",
       "      <td>0</td>\n",
       "    </tr>\n",
       "  </tbody>\n",
       "</table>\n",
       "<p>5 rows × 25 columns</p>\n",
       "</div>"
      ],
      "text/plain": [
       "   c5_b  c6_b  c7_b  c8_b  c9_b        n0        n1        n2        n3  \\\n",
       "0   0.0   0.0   1.0   0.0   0.0  0.530356  0.598345  0.519161  0.478557   \n",
       "1   0.0   0.0   0.0   1.0   1.0  0.672618  0.423329  0.442055  0.449888   \n",
       "2   0.0   0.0   0.0   1.0   1.0  0.567192  0.576429  0.505532  0.364614   \n",
       "3   0.0   0.0   0.0   1.0   1.0  0.474236  0.566046  0.499081  0.416457   \n",
       "4   1.0   0.0   0.0   1.0   0.0  0.363202  0.554642  0.495610  0.216550   \n",
       "\n",
       "         n4  ...  is_na_n0  is_na_n1  is_na_n2  is_na_n3  is_na_n4  \\\n",
       "0  0.620371  ...         0         0         0         0         0   \n",
       "1  0.458838  ...         0         0         0         0         0   \n",
       "2  0.550814  ...         0         0         0         0         0   \n",
       "3  0.552283  ...         0         0         0         0         0   \n",
       "4  0.397683  ...         0         0         0         0         0   \n",
       "\n",
       "   bin_idx_n0  bin_idx_n1  bin_idx_n2  bin_idx_n3  bin_idx_n4  \n",
       "0           2           3           2           2           3  \n",
       "1           3           1           2           2           2  \n",
       "2           3           3           2           0           2  \n",
       "3           2           3           2           0           3  \n",
       "4           0           3           2           0           0  \n",
       "\n",
       "[5 rows x 25 columns]"
      ]
     },
     "execution_count": 53,
     "metadata": {},
     "output_type": "execute_result"
    }
   ],
   "source": [
    "X_df_encoded_m_ind = X_df_encoded_m.copy(deep=True)\n",
    "for col in X_df_encoded_m.columns:\n",
    "    X_df_encoded_m_ind[\"is_na_\" + col] = X_df_encoded_m_ind[col].isna().astype(int)\n",
    "for col in X_df_encoded_m.filter(regex=\"^n\").columns:\n",
    "    X_df_encoded_m_ind[\"bin_idx_\" + col] = X_df_encoded_m[col].apply(\n",
    "        lambda x: apply_binning(x, thresholds)\n",
    "    )\n",
    "X_df_encoded_m_ind.head()"
   ]
  },
  {
   "cell_type": "code",
   "execution_count": 55,
   "id": "2c29c1bf-2be8-424a-8372-6eb03d64a90b",
   "metadata": {},
   "outputs": [
    {
     "data": {
      "text/plain": [
       "Index(['bin_idx_n0', 'bin_idx_n1', 'bin_idx_n2', 'bin_idx_n3', 'bin_idx_n4'], dtype='object')"
      ]
     },
     "execution_count": 55,
     "metadata": {},
     "output_type": "execute_result"
    }
   ],
   "source": [
    "categorical_columns = X_df_encoded_m_ind.filter(regex=\"^c\\d*\").columns\n",
    "binned_numerical_columns = X_df_encoded_m_ind.filter(regex=\"bin_idx*n*\").columns\n",
    "binned_numerical_columns"
   ]
  },
  {
   "cell_type": "code",
   "execution_count": 58,
   "id": "23b3971f-a3f3-4a7d-8650-f4d2c0b64685",
   "metadata": {},
   "outputs": [
    {
     "data": {
      "text/plain": [
       "Index(['is_na_c5_b', 'is_na_c6_b', 'is_na_c7_b', 'is_na_c8_b', 'is_na_c9_b',\n",
       "       'is_na_n0', 'is_na_n1', 'is_na_n2', 'is_na_n3', 'is_na_n4'],\n",
       "      dtype='object')"
      ]
     },
     "execution_count": 58,
     "metadata": {},
     "output_type": "execute_result"
    }
   ],
   "source": [
    "is_na_columns = X_df_encoded_m_ind.filter(regex=\"is_na_*\\d*\").columns\n",
    "is_na_columns"
   ]
  },
  {
   "cell_type": "code",
   "execution_count": 63,
   "id": "e248c6fa-8a40-4292-ad7c-26d12cbbdd99",
   "metadata": {},
   "outputs": [
    {
     "data": {
      "text/plain": [
       "['c5_b',\n",
       " 'c6_b',\n",
       " 'c7_b',\n",
       " 'c8_b',\n",
       " 'c9_b',\n",
       " 'bin_idx_n0',\n",
       " 'bin_idx_n1',\n",
       " 'bin_idx_n2',\n",
       " 'bin_idx_n3',\n",
       " 'bin_idx_n4']"
      ]
     },
     "execution_count": 63,
     "metadata": {},
     "output_type": "execute_result"
    }
   ],
   "source": [
    "col_list = list(categorical_columns) + list(binned_numerical_columns)\n",
    "col_list"
   ]
  },
  {
   "cell_type": "code",
   "execution_count": 76,
   "id": "a50d1503-31fa-49fd-b192-19fc305ae8fd",
   "metadata": {},
   "outputs": [
    {
     "data": {
      "image/png": "[encoded data removed]",
      "text/plain": [
       "<Figure size 1200x800 with 2 Axes>"
      ]
     },
     "metadata": {},
     "output_type": "display_data"
    }
   ],
   "source": [
    "# cat vs is_cat_null - chi2\n",
    "# cat vs is_num_null - chi2\n",
    "# binned_num vs is_cat_null - binning + chi2\n",
    "# binned_num vs is_num_null - binning + chi2\n",
    "p_value_matrix = pd.DataFrame(index=col_list, columns=is_na_columns)\n",
    "col_list = list(categorical_columns) + list(binned_numerical_columns)\n",
    "for col1 in col_list:\n",
    "    for col2 in is_na_columns:\n",
    "        # Create a contingency table\n",
    "        # print(f\"for {col1} with {col2}\")\n",
    "        contingency_table = pd.crosstab(\n",
    "            X_df_encoded_m_ind[col1], X_df_encoded_m_ind[col2]\n",
    "        )\n",
    "        # Perform Chi-Square test\n",
    "        chi2_stat, p_val, dof, ex = stats.chi2_contingency(contingency_table)\n",
    "        p_value_matrix.loc[col1, col2] = p_val\n",
    "\n",
    "# Convert p-values to float\n",
    "p_value_matrix = p_value_matrix.astype(float)\n",
    "\n",
    "# Create a mask for p-values <= 0.05\n",
    "\n",
    "significance_level = 0.05\n",
    "mask = p_value_matrix <= significance_level\n",
    "\n",
    "# Create a heatmap with highlighting\n",
    "plt.figure(figsize=(12, 8))\n",
    "sns.heatmap(\n",
    "    p_value_matrix,\n",
    "    annot=True,\n",
    "    cmap=\"coolwarm\",\n",
    "    cbar_kws={\"label\": \"p-value\"},\n",
    "    mask=mask,\n",
    "    linewidths=0.5,\n",
    "    linecolor=\"black\",\n",
    "    annot_kws={\"size\": 10},\n",
    ")\n",
    "# Highlight cells with p-value <= 0.05 with a different annotation\n",
    "for i in range(p_value_matrix.shape[0]):\n",
    "    for j in range(p_value_matrix.shape[1]):\n",
    "        if p_value_matrix.iloc[i, j] <= 0.05:\n",
    "            plt.text(\n",
    "                j + 0.5,\n",
    "                i + 0.5,\n",
    "                f\"{p_value_matrix.iloc[i, j]:.3f}\",\n",
    "                horizontalalignment=\"center\",\n",
    "                verticalalignment=\"center\",\n",
    "                # color='white',\n",
    "                fontsize=10,\n",
    "                weight=\"bold\",\n",
    "                bbox=dict(facecolor=\"red\", alpha=0.5),\n",
    "            )\n",
    "\n",
    "plt.title(\n",
    "    f\"Chi-Square Test p-values with Highlighting for pval <= to signficance level {significance_level}\"\n",
    ")\n",
    "plt.show()"
   ]
  }
 ],
 "metadata": {
  "kernelspec": {
   "display_name": "Python 3 (ipykernel)",
   "language": "python",
   "name": "python3"
  },
  "language_info": {
   "codemirror_mode": {
    "name": "ipython",
    "version": 3
   },
   "file_extension": ".py",
   "mimetype": "text/x-python",
   "name": "python",
   "nbconvert_exporter": "python",
   "pygments_lexer": "ipython3",
   "version": "3.12.3"
  }
 },
 "nbformat": 4,
 "nbformat_minor": 5
}
